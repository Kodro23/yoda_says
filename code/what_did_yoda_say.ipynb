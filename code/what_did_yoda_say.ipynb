{
 "cells": [
  {
   "cell_type": "code",
   "execution_count": 1,
   "metadata": {},
   "outputs": [],
   "source": [
    "#import libraries\n",
    "import re\n",
    "import os\n",
    "from pypdf import PdfReader\n",
    "import pandas as pd"
   ]
  },
  {
   "cell_type": "code",
   "execution_count": 2,
   "metadata": {},
   "outputs": [],
   "source": [
    "# Specify the folder path\n",
    "folder_path = \"C:/Users/Annek/Documents/semestre 1/ML avec python/YODA/yoda_says/data\""
   ]
  },
  {
   "cell_type": "markdown",
   "metadata": {},
   "source": [
    "#### 1. Handling scripts"
   ]
  },
  {
   "cell_type": "code",
   "execution_count": 3,
   "metadata": {},
   "outputs": [
    {
     "name": "stdout",
     "output_type": "stream",
     "text": [
      "01_the_phatom_menace.txt\n",
      "02_attack_of_the_clones.txt\n",
      "03_revenge_of_the_sith.txt\n",
      "05_the_empire_strikes_back.txt\n",
      "06_return_of_the_jedi.txt\n",
      "Number of sentences from scripts: 80\n"
     ]
    }
   ],
   "source": [
    "# Load scripts\n",
    "dialogues = {}\n",
    "patterns = {\n",
    "    \"01\": r\"(?<=\\n)([A-Z ]+)(?=:\\s)(.+?)(?=(\\n\\s*\\n|\\n[A-Z ]+\\n|\\Z))\",  # Pattern for \"01\" or \"03\"\n",
    "    \"03\": r\"(?<=\\n)([A-Z ]+)(?=:\\s)(.+?)(?=(\\n\\s*\\n|\\n[A-Z ]+\\n|\\Z))\",\n",
    "    \"02\": r\"(?<=\\n)([A-Z ]+)(?=\\n)(.+?)(?=(\\n\\s*\\n|\\n[A-Z ]+\\n|\\Z))\",   # Pattern for \"02\" and \"06\"\n",
    "    \"06\": r\"(?<=\\n)([A-Z ]+)(?=\\n)(.+?)(?=(\\n\\s*\\n|\\n[A-Z ]+\\n|\\Z))\",\n",
    "    \"05\": r\"(?<=\\n)([A-Z ]+)\\s*(\\([^)]*\\))?\\s*(.+?)(?=(\\n\\s*\\n|\\n[A-Z ]+\\n|\\Z))\"  # Pattern for \"05\"\n",
    "}\n",
    "# Loop through all files in the folder\n",
    "for filename in os.listdir(folder_path+\"/scripts\"):\n",
    "   print(filename)\n",
    "   if filename.endswith(\".txt\"):  # Process only .txt files\n",
    "    file_path = os.path.join(folder_path+\"/scripts\", filename)\n",
    "    with open(file_path, \"r\") as file:\n",
    "        script_text = file.read()\n",
    "      # Determine which pattern to use based on the filename\n",
    "        character_dialogue_pattern = None\n",
    "        for key, pattern in patterns.items():\n",
    "            if key in filename:  # Check if the key is part of the filename\n",
    "               character_dialogue_pattern = re.compile(pattern, re.DOTALL)\n",
    "               break\n",
    "\n",
    "            # Skip files without a matching pattern\n",
    "            if not character_dialogue_pattern:\n",
    "                # print(f\"No matching pattern for file: {filename}\")\n",
    "                continue\n",
    "        for match in character_dialogue_pattern.finditer(script_text):\n",
    "          character = match.group(1).strip()\n",
    "          if \"05\" in filename:\n",
    "            dialogue = match.group(3).strip()\n",
    "          else:\n",
    "            dialogue = match.group(2).strip()\n",
    "          if character not in dialogues:\n",
    "            dialogues[character] = []\n",
    "          if \"01\" in filename or \"03\" in filename:\n",
    "            dialogues[character].append(dialogue.split(\": \")[1].replace(\"\\n\", \"\"))\n",
    "          elif \"05\" in filename:\n",
    "            dialogues[character].append(dialogue.split(\".\\n\")[0].split(\"?\\n\")[0].replace(\"\\n\", \"\"))\n",
    "          else:\n",
    "            dialogues[character].append(dialogue.replace(\"\\n\", \"\"))\n",
    "print(\"Number of sentences from scripts:\", len(dialogues[\"YODA\"]))\n",
    "\n",
    "\n",
    "\n"
   ]
  },
  {
   "cell_type": "code",
   "execution_count": 4,
   "metadata": {},
   "outputs": [],
   "source": [
    "#Correct some dialogues\n",
    "dialogues[\"YODA\"][1]=\"Trained as a Jedi, you request for him?\"\n",
    "dialogues[\"YODA\"][2]=\"Good, good, young one. How feel you?\"\n",
    "dialogues[\"YODA\"][3]=\"See through you, we can.\"\n",
    "dialogues[\"YODA\"][4]=\"...Correct you were, Qui-Gon.\"\n",
    "dialogues[\"YODA\"][5]=\"An apprentice, you have, Qui-Gon. Impossible, to take on a second.\"\n",
    "dialogues[\"YODA\"][6]=\"Our own council we will keep on who is ready. More to learn, he has...\"\n",
    "dialogues[\"YODA\"][7]=\"Young Skywalker's fate will be decided later.\"\n",
    "dialogues[\"YODA\"][8]=\"Confer on you, the level of Jedi Knight the Coucil does. But agreeon you taking this boy as your Padawan learner, I do not.\"\n"
   ]
  },
  {
   "cell_type": "markdown",
   "metadata": {},
   "source": [
    "#### 2. Handling books"
   ]
  },
  {
   "cell_type": "code",
   "execution_count": null,
   "metadata": {},
   "outputs": [
    {
     "name": "stdout",
     "output_type": "stream",
     "text": [
      "Number of sentences from book1: 299\n"
     ]
    }
   ],
   "source": [
    "# first book\n",
    "with open(folder_path+ \"/books/yoda-dark-rendezvous.txt\", \"r\") as file:\n",
    "      book_text = file.read()\n",
    "first_dialogues=re.findall(r'\\bYoda\\b.*?\"(.*?)\"', book_text.replace(\"\\n\",\"\"))\n",
    "yoda_dialogues_book1=first_dialogues + [dialogue for dialogue in re.findall(r'\"(.*?)\".*?\\bYoda\\b', book_text.replace(\"\\n\",\"\")) \n",
    "                                                 if dialogue not in first_dialogues]\n",
    "yoda_dialogues_book1= list(filter(lambda s: s.strip(), yoda_dialogues_book1))\n",
    "print(\"Number of sentences from book1:\", len(yoda_dialogues_book1))\n"
   ]
  },
  {
   "cell_type": "code",
   "execution_count": 6,
   "metadata": {},
   "outputs": [
    {
     "name": "stdout",
     "output_type": "stream",
     "text": [
      "Number of sentences from book2: 101\n"
     ]
    }
   ],
   "source": [
    "#second book\n",
    "reader = PdfReader(folder_path+ \"/books/MATTHEW STOVER - Star Wars, Episode III - Revenge of the Sith-LucasBooks (2005).pdf\")\n",
    "first_dialogues=[]\n",
    "for i in range (len(reader.pages)):\n",
    "    first_dialogues=first_dialogues + re.findall(r'\\bYoda\\b.*?\"(.*?)\"', reader.pages[i].extract_text().replace(\"\\n\",\"\"))\n",
    "    yoda_dialogues_book2=first_dialogues + [dialogue for dialogue in re.findall(r'\"(.*?)\".*?\\bYoda\\b', reader.pages[i].extract_text().replace(\"\\n\",\"\")) \n",
    "                                                 if dialogue not in first_dialogues]\n",
    "yoda_dialogues_book2= list(filter(lambda s: s.strip(), yoda_dialogues_book2))\n",
    "print(\"Number of sentences from book2:\", len(yoda_dialogues_book2))"
   ]
  },
  {
   "cell_type": "markdown",
   "metadata": {},
   "source": [
    "#### 3. Quotes from the internet"
   ]
  },
  {
   "cell_type": "code",
   "execution_count": 7,
   "metadata": {},
   "outputs": [
    {
     "name": "stdout",
     "output_type": "stream",
     "text": [
      "Number of quotes: 159\n"
     ]
    }
   ],
   "source": [
    "quotes=[\n",
    "\"Fear is the path to the dark side. Fear leads to anger. Anger leads to hate. Hate leads to suffering.\",\n",
    "\"Once you start down the dark path, forever will it dominate your destiny. Consume you, it will.\",\n",
    "\"Always pass on what you have learned.\",\n",
    "\"Patience you must have my young Padawan.\",\n",
    "\"In a dark place we find ourselves, and a little more knowledge lights our way.\",\n",
    "\"Death is a natural part of life. Rejoice for those around you who transform into the Force. Mourn them do not. Miss them do not. Attachment leads to jealousy. The shadow of greed, that is.\",\n",
    "\"Powerful you have become, the dark side I sense in you.\",\n",
    "\"Train yourself to let go of everything you fear to lose.\",\n",
    "\"Feel the force!\",\n",
    "\"Truly wonderful the mind of a child is.\",\n",
    "\"Do or do not. There is no try.\",\n",
    "\"Great warrior. Wars not make one great.\",\n",
    "\"Size matters not. Look at me. Judge me by my size, do you? Hmm? Hmm. And well you should not. For my ally is the Force, and a powerful ally it is. Life creates it, makes it grow. Its energy surrounds us and binds us. Luminous beings are we, not this crude matter. You must feel the Force around you; here, between you, me, the tree, the rock, everywhere, yes. Even between the land and the ship.\",\n",
    "\"The dark side clouds everything. Impossible to see the light, the future is.\",\n",
    "\"You will find only what you bring in.\",\n",
    "\"To be Jedi is to face the truth, and choose. Give off light, or darkness, Padawan. Be a candle, or the night.\",\n",
    "\"Control, control, you must learn control!\",\n",
    "\"On many long journeys have I gone. And waited, too, for others to return from journeys of their own. Some return; some are broken; some come back so different only their names remain.\",\n",
    "\"In the end, cowards are those who follow the dark side.\",\n",
    "\"Difficult to see. Always in motion is the future.\",\n",
    "\"Ready are you? What know you of ready? For eight hundred years have I trained Jedi. My own counsel will I keep on who is to be trained. A Jedi must have the deepest commitment, the most serious mind. This one a long time have I watched. All his life has he looked away… to the future, to the horizon. Never his mind on where he was. Hmm? What he was doing. Hmph. Adventure. Heh. Excitement. Heh. A Jedi craves not these things. You are reckless.\",\n",
    "\"Secret, shall I tell you? Grand Master of Jedi Order am I. Won this job in a raffle I did, think you? ‘How did you know, how did you know, Master Yoda?’ Master Yoda knows these things. His job it is.\",\n",
    "\"To answer power with power, the Jedi way this is not. In this war, a danger there is, of losing who we are.\",\n",
    "\"Many of the truths that we cling to depend on our point of view.\",\n",
    "\"Named must your fear be before banish it you can.\",\n",
    "\"You think Yoda stops teaching, just because his student does not want to hear? A teacher Yoda is. Yoda teaches like drunkards drink, like killers kill.\",\n",
    "\"Do not assume anything Obi-Wan. Clear your mind must be if you are to discover the real villains behind this plot.\",\n",
    "\"You will know (the good from the bad) when you are calm, at peace. Passive. A Jedi uses the Force for knowledge and defense, never for attack.\",\n",
    "\"Soon will I rest, yes, forever sleep. Earned it I have. Twilight is upon me, soon night must fall.\",\n",
    "\"When you look at the dark side, careful you must be. For the dark side looks back.\",\n",
    "\"You will know (the good from the bad) when you are calm, at peace. Passive. A Jedi uses the Force for knowledge and defense, never for attack.\",\n",
    "\"Smaller in number are we, but larger in mind.\",\n",
    "\"Your path you must decide.\",\n",
    "\"Always two there are, no more, no less. A master and an apprentice.\",\n",
    "\"No longer certain, that one ever does win a war, I am. For in fighting the battles, the bloodshed, already lost we have. Yet, open to us a path remains. That unknown to the Sith is. Through this path, victory we may yet find. Not victory in the Clone Wars, but victory for all time.\",\n",
    "\"If no mistake you have made, losing you are. A different game you should play.\",\n",
    "\"Happens to every guy sometimes this does.\",\n",
    "\"Adventure. Excitement. A Jedi craves not these things.\",\n",
    "\"Only the Dark Lord of the Sith knows of our weakness. If informed the senate is, multiply our adversaries will.\",\n",
    "\"Do, or do not. There is no try.\",\n",
    "\"For my ally is the Force. And a powerful ally it is.\",\n",
    "\"Step forward, Padawan. Anakin Skywalker, by the right of the Council... by the will of the Force... dub thee I do... Jedi... Knight of the Republic.\",\n",
    "\"You must unlearn what you have learned.\",\n",
    "\"This one a long time have I watched. All his life has he looked away, to the future, to the horizon. Never his mind on where he was, hmm? What he was doing. Hmm. Adventure. Heh. Excitement. Heh. A Jedi craves not these things.\",\n",
    "\"Like fire across the galaxy the Clone Wars spread.\",\n",
    "\"If so powerful you are, why leave?\",\n",
    "\"Mine! Mine! Mine! MINE!!!\",\n",
    "\"When nine hundred years old you reach, look as good you will not, hmm?\",\n",
    "\"For my ally is the Force. And a powerful ally it is. Life creates it, makes it grow. Its energy surrounds us and binds us. Luminous beings are we, not this crude matter. You must feel the Force around you. Here, between you, me, the tree, the rock, everywhere! Yes, even between the land and the ship.\",\n",
    "\"No.... there is another.\",\n",
    "\"Because it is easy.\",\n",
    "\"Help you I can. Yes, mmm.\",\n",
    "\"Oh! Great warrior. Wars not make one great.\",\n",
    "\"Each act, you see, is like a fossil, preserved in the Force, as – aiee! Stop! Stop! Eating this, I am!\",\n",
    "\"Victory? Victory, you say? Master Obi-Wan, not a victory. The shroud of the Dark Side has fallen. Begun, the Clone War has.\",\n",
    "\"Fear is the path to the dark side. Fear leads to anger. Anger leads to hate. Hate....leads to suffering.\",\n",
    " \"Strong am I with the Force, but not that strong. Twilight is upon me, and soon night must fall. That is the way of things. The way of the Force.\",\n",
    " \"When you look at the dark side, careful you must be ... for the dark side looks back.\",\n",
    " \"If in anger you answer, then in shame you dwell.\",\n",
    " \"Yes. We would like our meal comped.\",\n",
    " \"I was. Defending my wallet I was from the evil price hikes.\",\n",
    " \"Luke... the Force runs strong in your family. Pass on what you have learned. Luke... there is... another... Sk... ky... walker...\",\n",
    " \"I don't want your help. I want my lamp back. I'm gonna need it to get out of this slimy mudhole.\",\n",
    " \"Mudhole? Slimy? My home this is!\",\n",
    " \"If no mistake have you made, yet losing you are... a different game you should play.\",\n",
    " \"I won't fail you. I'm not afraid.\",\n",
    " \"Oh, you will be. You will be.\",\n",
    " \"There's something not right here. I feel cold... death.\",\n",
    " \"That place is strong with the dark side of the Force. A domain of evil it is. In you must go.\",\n",
    " \"Only what you take with you.\",\n",
    " \"Secret, shall I tell you? Grand Master of Jedi Order am I. Won this job in a raffle I did, think you? 'How did you know, how did you know, Master Yoda?' Master Yoda knows these things. His job it is.\",\n",
    " \"Soon will I rest. Yes, forever sleep. Earned it, I have.\",\n",
    " \"I want… I want a rose.\",\n",
    " \"How you get so big eating food of this kind?\", \"Lost a planet Master Obi-Wan has. How embarrassing. How embarrassing.\", \n",
    " \"Not if anything to say about it I have!\",\n",
    " \"Attachment leads to jealousy. The shadow of greed that is.\",\n",
    " \"Train yourself to let go of everything you fear to lose.\",\n",
    " \"Always with you it cannot be done. Hear you nothing that I say?\",\n",
    " \"Listen, friend, we didn't mean to land in that puddle, and if we could get our ship out, we would, but we can't, so why don't you just—\",\n",
    " \"Awww, cannot get your ship out!\",\n",
    " \"Strong you are with the dark side, young one… but not that strong.\",\n",
    " \"No! No different! Only different in your mind.\",\n",
    " \"A Jedi uses the Force for knowledge and defense, never for attack.\",\n",
    " \"Twilight is upon me, and soon night must fall. That is the way of things... the way of the Force.\",\n",
    " \"If far from the Force you find yourself, trust you can that it is not the Force which moved.\",\n",
    " \"Control, control, you must learn control!\", \"I cannot teach him. The boy has no patience.\",\n",
    " \"Hmm. Much anger in him, like his father.\",\n",
    " \"Was I any different when you taught me?\",\n",
    " \"To a dark place this line of thought will carry us.\",\n",
    " \"Stubborn and hard is your head. Soften it we will.\",\n",
    " \"Mysterious are the ways of the Force.\",\n",
    " \"Very mysterious.\", \"Alone? No. Always the past to keep me company. The creatures on the planet, and the Force. And now you. Annoying though you may be.\",\n",
    " \"A warrior who cannot dance? Clumsy in both war and peace he is.\",\n",
    " \"Yarael Poof has a small head. But a small head means not small thoughts.\", \"Mysterious are the ways of the Force.\",\"Very mysterious.\",\n",
    " \"Think you I have never felt the touch of the dark? Know you what a soul so great as Yoda can make, in eight hundred years?\",\n",
    " \"Many mistakes!\", \"To be Jedi is to face the truth, and choose. Give off light, or darkness, Padawan. Be a candle, or the night, Padawan: but choose!\",\n",
    " \"Stop! Stop! Eating this, I am!\",\n",
    " \"Ignorant machine! Not on menu, my food ever is. Made special for me, was this!\", \"Back! Mine! Go away!\", \"Bah! Droids!\", \"Double jump you can. Easy it is.\",\n",
    " \"When you look back, lose your place on the path, you do. Learn you will, Anakin, that stars move and stars fall, and nothing at all do they have to do with you.\",\n",
    " \"Seen much have we, Artoo. Been part of much. Your part will continue. His part is just beginning… but my part, soon, will come to an end.\",\"Surprised?\",\n",
    " \"Ready, are you? What know you of ready? For eight hundred years have I trained Jedi. My own counsel will I keep on who is to be trained.\",\n",
    " \"In pursuit of clues, we are.\",\n",
    " \"A Jedi's strength flows from the Force. But beware of the dark side. Anger. Fear. Aggression. The dark side of the Force are they. Easily they flow. Quick to join you in a fight. If once you start down the dark path, forever will it dominate your destiny. Consume you it will, as it did Obi-Wan's apprentice.\",\n",
    " \"No! No…no. Quicker. Easier. More seductive.\", \"You will know, when you are calm. At peace. Passive.\", \n",
    " \"An infinite mystery is the Force. The more we learn, the more we discover how much we do not know.\",\n",
    " \"Only a fully trained Jedi knight, with the Force as his ally, will conquer Vader and his Emperor. If you end your training now, if you choose the quick and easy path, as Vader did, you will become an agent of evil.\",\n",
    " \"And sacrifice Han and Leia?\", \"If you honor what they fight for? Yes!\", \"Chaos begun cannot be ordered so easily.\",\n",
    " \"Believe I do, Senator, that a free society must guard its freedom zealously, lest wake one morning it does to find all freedom disappeared.\",\n",
    " \"Like a river, the Force flows through you. Learned much you have, in these past three months. And more quickly than any student I have taught before.\",\n",
    " \"Even my father?\",\n",
    " \"Strong was the Force with Anakin, before he became Vader. Yet impatient and stubborn he was. Constantly pushing to excel beyond his ability. More sublime, your approach has been.\",\n",
    "\"Yet learned you have not the hazards of using a superheated blade against a foe made mainly of water.\",\n",
    " \"Will he finish what he begins?\", \"Wake up.\", \"Poking you with a stick, I am.\",\n",
    " \"What use saving the galaxy is if so much hurt and pain one must cause? The Jedi way that is not. No. Hurt you I won't. Trust you I will, trust you…and the Force. The Jedi way that is. Be good to speak again it will.\",\n",
    " \"Mmm. Friends you have there.\", \"It is the future you see.\",\"The future... Will they die?\", \"Difficult to say. Always in motion is the future.\"\n",
    "\"It is the spontaneity that you find so easily which others do not, that is what sets you apart.\",\n",
    "\"A flaw more and more common among Jedi. Too sure of themselves they are. Even the older, more experienced ones.\",\n",
    "\"Blind we are, of creation of this clone army we could not see.\",\n",
    "\"Doubt in battle, there cannot be. Belief, there must be.\",\n",
    "\"No greater gift there is, than a generous heart.\",\n",
    "\"If in anger you answer, then in shame you dwell.\",\n",
    "\"Arduous is discovering oneself, going on the greatest exploration it is.\",\n",
    "\"Many of the truths that we cling to depend on our point of view.\",\n",
    "\"Patience you must have my young Padawan.\",\n",
    "\"You think Yoda stops teaching, just because his student does not want to hear? A teacher Yoda is. Yoda teaches like drunkards drink, like killers kill.\",\n",
    "\"If no mistake you have made, losing you are. A different game you should play.\",\n",
    "\"Your path you must decide.\",\n",
    "\"Hard to see the dark side is.\",\n",
    "\"Always two there are, no more, no less. A master and an apprentice.\",\n",
    "\"Clear, your mind must be, if you are to discover the real villains behind this plot.\",\n",
    "\"To answer power with power, the Jedi way this is not. In this war, a danger there is, of losing who we are.\",\n",
    "\"In the end, cowards are those who follow the dark side.\",\n",
    "\"On many long journeys have I gone. And waited, too, for others to return from journeys of their own. Some return; some are broken; some come back so different only their names remain.\",\n",
    "\"To be Jedi is to face the truth and choose. Give off light, or darkness, Padawan. Be a candle, or the night.\",\n",
    "\"The dark side clouds everything. Impossible to see, the future is.\",\n",
    "\"Feel the Force!\"\n",
    "\"Powerful you have become. The dark side I sense in you.\",\n",
    "\"Death is a natural part of life. Rejoice for those around you who transform into the Force. Mourn them do not. Miss them do not.\",\n",
    "\"In a dark place we find ourselves, and a little more knowledge lights our way.\",\n",
    "\"Much to learn you still have.\",\n",
    "\"Attachment leads to jealousy. The shadow of greed, that is.\",\n",
    "\"Named must your fear be before banish it you can.\",\n",
    "\"Truly wonderful, the mind of a child is.\",\n",
    "\"Anger, fear, aggression. The dark side are they.\",\n",
    "\"Fear is the path to the dark side.\",\n",
    "\"No, no, no. Quicker, easier, more seductive.\",\n",
    "\"Train yourself to let go of everything you are afraid to lose.\",\n",
    "\"A Jedi uses the Force for knowledge and defense, never for attack.\",\n",
    "\"So certain are you? Always with you what cannot be done. Hear you nothing that I say?\"\n",
    "\"A Jedi's strength flows from the Force.\",\n",
    "\"I can’t teach him. The boy has no patience.\",\n",
    "\"Fear leads to anger. Anger leads to hate. Hate leads to suffering.\",\n",
    "\"Smaller in number are we, but larger in mind.\",\n",
    "\"Pass on what you have learned. Strength. Mastery. But weakness, folly, failure also. Yes, failure most of all.\",\n",
    "\"You must unlearn what you have learned.\",\n",
    "\"The greatest teacher, failure is.\",\n",
    "\"When you look at the dark side, careful you must be. For the dark side looks back.\",\n",
    "\"To a dark place this line of thought will carry us. Hmm. Great care we must take.\",\n",
    "\"A way, there always is.\", \n",
    "\"You will find only what you bring in.\",\n",
    "\"Always in motion, is the future.\",\n",
    "\"...we are what they grow beyond. That is the true burden of all masters.\",\n",
    "\"Once you start down the dark path, forever will it dominate your destiny. Consume you, it will.\",\n",
    "\"Size matters not. Look at me. Judge me by my size, do you?\",\n",
    "\"All his life has he looked away…to the future, to the horizon. Never his mind on where he was. Hmm? What he was doing. Hmph. Adventure. Heh. Excitement. Heh. A Jedi craves not these things.\",\n",
    "\"Soon will I rest, yes, forever sleep. Earned it I have. Twilight is upon me, soon night must fall.\",\n",
    "\"Control, control, you must learn control!\"\n",
    "\"Ah! A great warrior. Wars not make one great.\",\n",
    "\"Do. Or do not. There is no try.\"]\n",
    "#Delete duplicates\n",
    "quotes=list(set(quotes))\n",
    "print(\"Number of quotes:\", len(quotes))"
   ]
  },
  {
   "cell_type": "markdown",
   "metadata": {},
   "source": [
    "#### 4. Yoda corpus in Kaggle"
   ]
  },
  {
   "cell_type": "code",
   "execution_count": 8,
   "metadata": {},
   "outputs": [
    {
     "name": "stdout",
     "output_type": "stream",
     "text": [
      "NUmber of sentences from corpus: 100\n"
     ]
    }
   ],
   "source": [
    "starwars_corpus=pd.read_csv(\"C:/Users/Annek/Documents/semestre 1/ML avec python/YODA/yoda_says/data/yoda-corpus.csv\",sep=',')\n",
    "yoda_corpus=starwars_corpus[starwars_corpus[\"character\"]==\"YODA\"][\"text\"].tolist()\n",
    "print(\"NUmber of sentences from corpus:\", len(yoda_corpus))"
   ]
  },
  {
   "cell_type": "markdown",
   "metadata": {},
   "source": [
    "#### Final dataset"
   ]
  },
  {
   "cell_type": "code",
   "execution_count": 9,
   "metadata": {},
   "outputs": [
    {
     "name": "stdout",
     "output_type": "stream",
     "text": [
      "Final number of sentences: 714\n"
     ]
    }
   ],
   "source": [
    "#Assemble everything and delete duplicates\n",
    "yoda_dialogues=list(set(yoda_dialogues_book1+yoda_dialogues_book2+quotes+dialogues[\"YODA\"][1:80]+yoda_corpus))\n",
    "print(\"Final number of sentences:\",len(yoda_dialogues))"
   ]
  }
 ],
 "metadata": {
  "kernelspec": {
   "display_name": "yoda",
   "language": "python",
   "name": "python3"
  },
  "language_info": {
   "codemirror_mode": {
    "name": "ipython",
    "version": 3
   },
   "file_extension": ".py",
   "mimetype": "text/x-python",
   "name": "python",
   "nbconvert_exporter": "python",
   "pygments_lexer": "ipython3",
   "version": "3.11.9"
  }
 },
 "nbformat": 4,
 "nbformat_minor": 2
}
